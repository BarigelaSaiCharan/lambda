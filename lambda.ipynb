{
 "cells": [
  {
   "cell_type": "code",
   "execution_count": 3,
   "id": "46c09f85-c37a-4e8f-adb3-e96c0201d3b9",
   "metadata": {},
   "outputs": [
    {
     "name": "stdout",
     "output_type": "stream",
     "text": [
      "Good Morning sai\n"
     ]
    }
   ],
   "source": [
    "greet = lambda name : print(f\"Good Morning {name}\")\n",
    "greet(\"sai\"    )"
   ]
  },
  {
   "cell_type": "code",
   "execution_count": 7,
   "id": "bb674e83-7af5-494a-a15b-bf40f9c2eadb",
   "metadata": {},
   "outputs": [
    {
     "data": {
      "text/plain": [
       "[100, 98, 96, 94, 92, 90]"
      ]
     },
     "execution_count": 7,
     "metadata": {},
     "output_type": "execute_result"
    }
   ],
   "source": [
    "even = lambda L : [x for x in L if x%2 == 0]\n",
    "l = [100,99,98,97,96,95,94,93,92,91,90]\n",
    "even(l)"
   ]
  },
  {
   "cell_type": "code",
   "execution_count": 9,
   "id": "28ea42eb-9199-46ac-87bf-0ff4fbdd4b5d",
   "metadata": {},
   "outputs": [
    {
     "name": "stdout",
     "output_type": "stream",
     "text": [
      "    Name  Age Department  Salary\n",
      "0   John   28         HR   45000\n",
      "1  Alice   34         IT   60000\n",
      "2    Bob   23  Marketing   35000\n",
      "3  Diana   29    Finance   50000\n"
     ]
    }
   ],
   "source": [
    "import pandas as pd\n",
    "data = {\n",
    "    'Name': ['John', 'Alice', 'Bob', 'Diana'],\n",
    "    'Age': [28, 34, 23, 29],\n",
    "    'Department': ['HR', 'IT', 'Marketing', 'Finance'],\n",
    "    'Salary': [45000, 60000, 35000, 50000]\n",
    "}\n",
    "df = pd.DataFrame(data)\n",
    "print(df)"
   ]
  },
  {
   "cell_type": "code",
   "execution_count": 11,
   "id": "292dd3e4-84e9-49e5-ba3f-7aabbdfb41fa",
   "metadata": {},
   "outputs": [
    {
     "name": "stdout",
     "output_type": "stream",
     "text": [
      "First 2 rows of the DataFrame:\n",
      "    Name  Age Department  Salary\n",
      "0   John   28         HR   45000\n",
      "1  Alice   34         IT   60000\n"
     ]
    }
   ],
   "source": [
    "import pandas as pd\n",
    "data = {\n",
    "    'Name': ['John', 'Alice', 'Bob', 'Diana'],\n",
    "    'Age': [28, 34, 23, 29],\n",
    "    'Department': ['HR', 'IT', 'Marketing', 'Finance'],\n",
    "    'Salary': [45000, 60000, 35000, 50000]                                            \n",
    "}\n",
    "df = pd.DataFrame(data)\n",
    "print(\"First 2 rows of the DataFrame:\")\n",
    "print(df.head(2))\n",
    "df['Bonus'] = df['Salary'] * 0.10"
   ]
  },
  {
   "cell_type": "code",
   "execution_count": null,
   "id": "32d88abd-41a8-4d56-9840-a35e5657dc9e",
   "metadata": {},
   "outputs": [],
   "source": []
  }
 ],
 "metadata": {
  "kernelspec": {
   "display_name": "Python 3 (ipykernel)",
   "language": "python",
   "name": "python3"
  },
  "language_info": {
   "codemirror_mode": {
    "name": "ipython",
    "version": 3
   },
   "file_extension": ".py",
   "mimetype": "text/x-python",
   "name": "python",
   "nbconvert_exporter": "python",
   "pygments_lexer": "ipython3",
   "version": "3.12.4"
  }
 },
 "nbformat": 4,
 "nbformat_minor": 5
}
